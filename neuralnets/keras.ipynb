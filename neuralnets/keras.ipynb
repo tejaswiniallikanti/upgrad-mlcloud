{
 "cells": [
  {
   "cell_type": "markdown",
   "metadata": {},
   "source": [
    "# Keras\n",
    "```\n",
    "----------------------------------------------------------------------\n",
    "Filename : keras.ipynb\n",
    "Author   : Jaidev Deshpande\n",
    "Purpose  : Understanding Keras\n",
    "Libraries: tensorflow.keras,numpy,sklearn and pandas\n",
    "----------------------------------------------------------------------\n",
    "```"
   ]
  },
  {
   "cell_type": "code",
   "execution_count": 1,
   "metadata": {},
   "outputs": [],
   "source": [
    "# Importing libraries\n",
    "\n",
    "from tensorflow.keras.layers import Dense\n",
    "from tensorflow.keras import Sequential\n",
    "from tensorflow.keras.optimizers import SGD\n",
    "from tensorflow.keras.utils import to_categorical, plot_model\n",
    "import pandas as pd\n",
    "import numpy as np\n",
    "import matplotlib.pyplot as plt\n",
    "%matplotlib inline"
   ]
  },
  {
   "cell_type": "markdown",
   "metadata": {},
   "source": [
    "## Problem: Credit Card Fraud Detection\n",
    "### Given a list of 28 anonimyzed features and the amount of money involved in a credt card transaction, predict whether the transaction is likely to be fraudulent.\n",
    "### Source: https://www.kaggle.com/mlg-ulb/creditcardfraud/"
   ]
  },
  {
   "cell_type": "code",
   "execution_count": 2,
   "metadata": {},
   "outputs": [
    {
     "data": {
      "text/html": [
       "<div>\n",
       "<style scoped>\n",
       "    .dataframe tbody tr th:only-of-type {\n",
       "        vertical-align: middle;\n",
       "    }\n",
       "\n",
       "    .dataframe tbody tr th {\n",
       "        vertical-align: top;\n",
       "    }\n",
       "\n",
       "    .dataframe thead th {\n",
       "        text-align: right;\n",
       "    }\n",
       "</style>\n",
       "<table border=\"1\" class=\"dataframe\">\n",
       "  <thead>\n",
       "    <tr style=\"text-align: right;\">\n",
       "      <th></th>\n",
       "      <th>V1</th>\n",
       "      <th>V2</th>\n",
       "      <th>V3</th>\n",
       "      <th>V4</th>\n",
       "      <th>V5</th>\n",
       "      <th>V6</th>\n",
       "      <th>V7</th>\n",
       "      <th>V8</th>\n",
       "      <th>V9</th>\n",
       "      <th>V10</th>\n",
       "      <th>...</th>\n",
       "      <th>V21</th>\n",
       "      <th>V22</th>\n",
       "      <th>V23</th>\n",
       "      <th>V24</th>\n",
       "      <th>V25</th>\n",
       "      <th>V26</th>\n",
       "      <th>V27</th>\n",
       "      <th>V28</th>\n",
       "      <th>Amount</th>\n",
       "      <th>Class</th>\n",
       "    </tr>\n",
       "  </thead>\n",
       "  <tbody>\n",
       "    <tr>\n",
       "      <th>0</th>\n",
       "      <td>-1.359807</td>\n",
       "      <td>-0.072781</td>\n",
       "      <td>2.536347</td>\n",
       "      <td>1.378155</td>\n",
       "      <td>-0.338321</td>\n",
       "      <td>0.462388</td>\n",
       "      <td>0.239599</td>\n",
       "      <td>0.098698</td>\n",
       "      <td>0.363787</td>\n",
       "      <td>0.090794</td>\n",
       "      <td>...</td>\n",
       "      <td>-0.018307</td>\n",
       "      <td>0.277838</td>\n",
       "      <td>-0.110474</td>\n",
       "      <td>0.066928</td>\n",
       "      <td>0.128539</td>\n",
       "      <td>-0.189115</td>\n",
       "      <td>0.133558</td>\n",
       "      <td>-0.021053</td>\n",
       "      <td>149.62</td>\n",
       "      <td>0</td>\n",
       "    </tr>\n",
       "    <tr>\n",
       "      <th>1</th>\n",
       "      <td>1.191857</td>\n",
       "      <td>0.266151</td>\n",
       "      <td>0.166480</td>\n",
       "      <td>0.448154</td>\n",
       "      <td>0.060018</td>\n",
       "      <td>-0.082361</td>\n",
       "      <td>-0.078803</td>\n",
       "      <td>0.085102</td>\n",
       "      <td>-0.255425</td>\n",
       "      <td>-0.166974</td>\n",
       "      <td>...</td>\n",
       "      <td>-0.225775</td>\n",
       "      <td>-0.638672</td>\n",
       "      <td>0.101288</td>\n",
       "      <td>-0.339846</td>\n",
       "      <td>0.167170</td>\n",
       "      <td>0.125895</td>\n",
       "      <td>-0.008983</td>\n",
       "      <td>0.014724</td>\n",
       "      <td>2.69</td>\n",
       "      <td>0</td>\n",
       "    </tr>\n",
       "    <tr>\n",
       "      <th>2</th>\n",
       "      <td>-1.358354</td>\n",
       "      <td>-1.340163</td>\n",
       "      <td>1.773209</td>\n",
       "      <td>0.379780</td>\n",
       "      <td>-0.503198</td>\n",
       "      <td>1.800499</td>\n",
       "      <td>0.791461</td>\n",
       "      <td>0.247676</td>\n",
       "      <td>-1.514654</td>\n",
       "      <td>0.207643</td>\n",
       "      <td>...</td>\n",
       "      <td>0.247998</td>\n",
       "      <td>0.771679</td>\n",
       "      <td>0.909412</td>\n",
       "      <td>-0.689281</td>\n",
       "      <td>-0.327642</td>\n",
       "      <td>-0.139097</td>\n",
       "      <td>-0.055353</td>\n",
       "      <td>-0.059752</td>\n",
       "      <td>378.66</td>\n",
       "      <td>0</td>\n",
       "    </tr>\n",
       "    <tr>\n",
       "      <th>3</th>\n",
       "      <td>-0.966272</td>\n",
       "      <td>-0.185226</td>\n",
       "      <td>1.792993</td>\n",
       "      <td>-0.863291</td>\n",
       "      <td>-0.010309</td>\n",
       "      <td>1.247203</td>\n",
       "      <td>0.237609</td>\n",
       "      <td>0.377436</td>\n",
       "      <td>-1.387024</td>\n",
       "      <td>-0.054952</td>\n",
       "      <td>...</td>\n",
       "      <td>-0.108300</td>\n",
       "      <td>0.005274</td>\n",
       "      <td>-0.190321</td>\n",
       "      <td>-1.175575</td>\n",
       "      <td>0.647376</td>\n",
       "      <td>-0.221929</td>\n",
       "      <td>0.062723</td>\n",
       "      <td>0.061458</td>\n",
       "      <td>123.50</td>\n",
       "      <td>0</td>\n",
       "    </tr>\n",
       "    <tr>\n",
       "      <th>4</th>\n",
       "      <td>-1.158233</td>\n",
       "      <td>0.877737</td>\n",
       "      <td>1.548718</td>\n",
       "      <td>0.403034</td>\n",
       "      <td>-0.407193</td>\n",
       "      <td>0.095921</td>\n",
       "      <td>0.592941</td>\n",
       "      <td>-0.270533</td>\n",
       "      <td>0.817739</td>\n",
       "      <td>0.753074</td>\n",
       "      <td>...</td>\n",
       "      <td>-0.009431</td>\n",
       "      <td>0.798278</td>\n",
       "      <td>-0.137458</td>\n",
       "      <td>0.141267</td>\n",
       "      <td>-0.206010</td>\n",
       "      <td>0.502292</td>\n",
       "      <td>0.219422</td>\n",
       "      <td>0.215153</td>\n",
       "      <td>69.99</td>\n",
       "      <td>0</td>\n",
       "    </tr>\n",
       "  </tbody>\n",
       "</table>\n",
       "<p>5 rows × 30 columns</p>\n",
       "</div>"
      ],
      "text/plain": [
       "         V1        V2        V3        V4        V5        V6        V7  \\\n",
       "0 -1.359807 -0.072781  2.536347  1.378155 -0.338321  0.462388  0.239599   \n",
       "1  1.191857  0.266151  0.166480  0.448154  0.060018 -0.082361 -0.078803   \n",
       "2 -1.358354 -1.340163  1.773209  0.379780 -0.503198  1.800499  0.791461   \n",
       "3 -0.966272 -0.185226  1.792993 -0.863291 -0.010309  1.247203  0.237609   \n",
       "4 -1.158233  0.877737  1.548718  0.403034 -0.407193  0.095921  0.592941   \n",
       "\n",
       "         V8        V9       V10  ...       V21       V22       V23       V24  \\\n",
       "0  0.098698  0.363787  0.090794  ... -0.018307  0.277838 -0.110474  0.066928   \n",
       "1  0.085102 -0.255425 -0.166974  ... -0.225775 -0.638672  0.101288 -0.339846   \n",
       "2  0.247676 -1.514654  0.207643  ...  0.247998  0.771679  0.909412 -0.689281   \n",
       "3  0.377436 -1.387024 -0.054952  ... -0.108300  0.005274 -0.190321 -1.175575   \n",
       "4 -0.270533  0.817739  0.753074  ... -0.009431  0.798278 -0.137458  0.141267   \n",
       "\n",
       "        V25       V26       V27       V28  Amount  Class  \n",
       "0  0.128539 -0.189115  0.133558 -0.021053  149.62      0  \n",
       "1  0.167170  0.125895 -0.008983  0.014724    2.69      0  \n",
       "2 -0.327642 -0.139097 -0.055353 -0.059752  378.66      0  \n",
       "3  0.647376 -0.221929  0.062723  0.061458  123.50      0  \n",
       "4 -0.206010  0.502292  0.219422  0.215153   69.99      0  \n",
       "\n",
       "[5 rows x 30 columns]"
      ]
     },
     "execution_count": 2,
     "metadata": {},
     "output_type": "execute_result"
    }
   ],
   "source": [
    "# Importing dataset\n",
    "\n",
    "df = pd.read_csv('creditcard.csv')\n",
    "df.drop(['Time'], axis=1, inplace=True)\n",
    "df.head()"
   ]
  },
  {
   "cell_type": "code",
   "execution_count": 4,
   "metadata": {},
   "outputs": [
    {
     "data": {
      "text/plain": [
       "0    0.998273\n",
       "1    0.001727\n",
       "Name: Class, dtype: float64"
      ]
     },
     "execution_count": 4,
     "metadata": {},
     "output_type": "execute_result"
    }
   ],
   "source": [
    "# Understanding the distribution of fraudulent transactions\n",
    "\n",
    "df['Class'].value_counts(normalize=True)"
   ]
  },
  {
   "cell_type": "code",
   "execution_count": 5,
   "metadata": {},
   "outputs": [
    {
     "data": {
      "text/plain": [
       "<AxesSubplot:ylabel='Class'>"
      ]
     },
     "execution_count": 5,
     "metadata": {},
     "output_type": "execute_result"
    },
    {
     "data": {
      "image/png": "[encoded data removed]",
      "text/plain": [
       "<Figure size 432x288 with 1 Axes>"
      ]
     },
     "metadata": {},
     "output_type": "display_data"
    }
   ],
   "source": [
    "df['Class'].value_counts(normalize=True).plot(kind='pie')"
   ]
  },
  {
   "cell_type": "code",
   "execution_count": 6,
   "metadata": {},
   "outputs": [],
   "source": [
    "# Defining the output and input\n",
    "\n",
    "y = df.pop('Class').values\n",
    "X = df.values"
   ]
  },
  {
   "cell_type": "markdown",
   "metadata": {},
   "source": [
    "![](images/deepnet.png)"
   ]
  },
  {
   "cell_type": "code",
   "execution_count": 7,
   "metadata": {},
   "outputs": [],
   "source": [
    "# Defining the model parameters\n",
    "\n",
    "model = Sequential([\n",
    "    Dense(16, input_shape=(29,), activation='relu'),\n",
    "    Dense(8, activation='relu'),\n",
    "    Dense(2, activation='softmax')\n",
    "])\n",
    "model.compile(loss='categorical_crossentropy', optimizer=SGD(lr=1e-3), metrics=['categorical_accuracy'])"
   ]
  },
  {
   "cell_type": "code",
   "execution_count": 9,
   "metadata": {},
   "outputs": [
    {
     "data": {
      "image/png": "[encoded data removed]",
      "text/plain": [
       "<IPython.core.display.Image object>"
      ]
     },
     "execution_count": 9,
     "metadata": {},
     "output_type": "execute_result"
    }
   ],
   "source": [
    "plot_model(model, show_shapes=True, rankdir='LR')"
   ]
  },
  {
   "cell_type": "code",
   "execution_count": 17,
   "metadata": {},
   "outputs": [
    {
     "data": {
      "text/plain": [
       "[<tensorflow.python.keras.layers.core.Dense at 0x7f7ad88e7410>,\n",
       " <tensorflow.python.keras.layers.core.Dense at 0x7f7ae14dfc90>,\n",
       " <tensorflow.python.keras.layers.core.Dense at 0x7f7ad888db50>]"
      ]
     },
     "execution_count": 17,
     "metadata": {},
     "output_type": "execute_result"
    }
   ],
   "source": [
    "model.layers"
   ]
  },
  {
   "cell_type": "code",
   "execution_count": 18,
   "metadata": {},
   "outputs": [],
   "source": [
    "layer1, layer2, layer3 = model.layers"
   ]
  },
  {
   "cell_type": "code",
   "execution_count": 26,
   "metadata": {},
   "outputs": [
    {
     "name": "stdout",
     "output_type": "stream",
     "text": [
      "(29, 16)\n",
      "(16,)\n"
     ]
    }
   ],
   "source": [
    "# Understanding the dimensions of weights and bias\n",
    "\n",
    "l1_weight, l1_bias = layer1.weights\n",
    "print(l1_weight.shape)\n",
    "print(l1_bias.shape)"
   ]
  },
  {
   "cell_type": "code",
   "execution_count": 27,
   "metadata": {},
   "outputs": [
    {
     "name": "stdout",
     "output_type": "stream",
     "text": [
      "(16, 8)\n",
      "(8,)\n"
     ]
    }
   ],
   "source": [
    "l2_weight, l2_bias = layer2.weights\n",
    "print(l2_weight.shape)\n",
    "print(l2_bias.shape)"
   ]
  },
  {
   "cell_type": "code",
   "execution_count": 29,
   "metadata": {},
   "outputs": [
    {
     "name": "stdout",
     "output_type": "stream",
     "text": [
      "(8, 2)\n",
      "(2,)\n"
     ]
    }
   ],
   "source": [
    "l3_weight, l3_bias = layer3.weights\n",
    "print(l3_weight.shape)\n",
    "print(l3_bias.shape)"
   ]
  },
  {
   "cell_type": "code",
   "execution_count": 10,
   "metadata": {},
   "outputs": [],
   "source": [
    "y = to_categorical(y)"
   ]
  },
  {
   "cell_type": "markdown",
   "metadata": {},
   "source": [
    "One Epoch is when an ENTIRE dataset is passed forward and backward through the neural network only ONCE"
   ]
  },
  {
   "cell_type": "code",
   "execution_count": 11,
   "metadata": {
    "scrolled": true
   },
   "outputs": [
    {
     "name": "stdout",
     "output_type": "stream",
     "text": [
      "Epoch 1/50\n",
      "2226/2226 [==============================] - 4s 2ms/step - loss: 0.1653 - categorical_accuracy: 0.9828\n",
      "Epoch 2/50\n",
      "2226/2226 [==============================] - 5s 2ms/step - loss: 0.1034 - categorical_accuracy: 0.9973\n",
      "Epoch 3/50\n",
      "2226/2226 [==============================] - 5s 2ms/step - loss: 0.0764 - categorical_accuracy: 0.9982\n",
      "Epoch 4/50\n",
      "2226/2226 [==============================] - 5s 2ms/step - loss: 0.0571 - categorical_accuracy: 0.9984\n",
      "Epoch 5/50\n",
      "2226/2226 [==============================] - 4s 2ms/step - loss: 0.0430 - categorical_accuracy: 0.9985\n",
      "Epoch 6/50\n",
      "2226/2226 [==============================] - 4s 2ms/step - loss: 0.0322 - categorical_accuracy: 0.9986\n",
      "Epoch 7/50\n",
      "2226/2226 [==============================] - 5s 2ms/step - loss: 0.0260 - categorical_accuracy: 0.9987\n",
      "Epoch 8/50\n",
      "2226/2226 [==============================] - 4s 2ms/step - loss: 0.0219 - categorical_accuracy: 0.9987\n",
      "Epoch 9/50\n",
      "2226/2226 [==============================] - 4s 2ms/step - loss: 0.0189 - categorical_accuracy: 0.9988\n",
      "Epoch 10/50\n",
      "2226/2226 [==============================] - 4s 2ms/step - loss: 0.0167 - categorical_accuracy: 0.9988\n",
      "Epoch 11/50\n",
      "2226/2226 [==============================] - 4s 2ms/step - loss: 0.0165 - categorical_accuracy: 0.9989\n",
      "Epoch 12/50\n",
      "2226/2226 [==============================] - 4s 2ms/step - loss: 0.0221 - categorical_accuracy: 0.9988\n",
      "Epoch 13/50\n",
      "2226/2226 [==============================] - 4s 2ms/step - loss: 0.0134 - categorical_accuracy: 0.9989\n",
      "Epoch 14/50\n",
      "2226/2226 [==============================] - 4s 2ms/step - loss: 0.0136 - categorical_accuracy: 0.9989\n",
      "Epoch 15/50\n",
      "2226/2226 [==============================] - 4s 2ms/step - loss: 0.0138 - categorical_accuracy: 0.9989\n",
      "Epoch 16/50\n",
      "2226/2226 [==============================] - 4s 2ms/step - loss: 0.0148 - categorical_accuracy: 0.9989\n",
      "Epoch 17/50\n",
      "2226/2226 [==============================] - 4s 2ms/step - loss: 0.0128 - categorical_accuracy: 0.9990\n",
      "Epoch 18/50\n",
      "2226/2226 [==============================] - 4s 2ms/step - loss: 0.0124 - categorical_accuracy: 0.9990\n",
      "Epoch 19/50\n",
      "2226/2226 [==============================] - 4s 2ms/step - loss: 0.0131 - categorical_accuracy: 0.9989\n",
      "Epoch 20/50\n",
      "2226/2226 [==============================] - 4s 2ms/step - loss: 0.0133 - categorical_accuracy: 0.9989\n",
      "Epoch 21/50\n",
      "2226/2226 [==============================] - 4s 2ms/step - loss: 0.0113 - categorical_accuracy: 0.9989\n",
      "Epoch 22/50\n",
      "2226/2226 [==============================] - 4s 2ms/step - loss: 0.0101 - categorical_accuracy: 0.9990\n",
      "Epoch 23/50\n",
      "2226/2226 [==============================] - 4s 2ms/step - loss: 0.0111 - categorical_accuracy: 0.9991\n",
      "Epoch 24/50\n",
      "2226/2226 [==============================] - 4s 2ms/step - loss: 0.0119 - categorical_accuracy: 0.9989\n",
      "Epoch 25/50\n",
      "2226/2226 [==============================] - 4s 2ms/step - loss: 0.0108 - categorical_accuracy: 0.9990\n",
      "Epoch 26/50\n",
      "2226/2226 [==============================] - 4s 2ms/step - loss: 0.0119 - categorical_accuracy: 0.9989\n",
      "Epoch 27/50\n",
      "2226/2226 [==============================] - 4s 2ms/step - loss: 0.0112 - categorical_accuracy: 0.9991\n",
      "Epoch 28/50\n",
      "2226/2226 [==============================] - 4s 2ms/step - loss: 0.0103 - categorical_accuracy: 0.9991\n",
      "Epoch 29/50\n",
      "2226/2226 [==============================] - 4s 2ms/step - loss: 0.0081 - categorical_accuracy: 0.9991\n",
      "Epoch 30/50\n",
      "2226/2226 [==============================] - 4s 2ms/step - loss: 0.0100 - categorical_accuracy: 0.9990\n",
      "Epoch 31/50\n",
      "2226/2226 [==============================] - 4s 2ms/step - loss: 0.0098 - categorical_accuracy: 0.9990\n",
      "Epoch 32/50\n",
      "2226/2226 [==============================] - 4s 2ms/step - loss: 0.0117 - categorical_accuracy: 0.9990\n",
      "Epoch 33/50\n",
      "2226/2226 [==============================] - 4s 2ms/step - loss: 0.0093 - categorical_accuracy: 0.9991\n",
      "Epoch 34/50\n",
      "2226/2226 [==============================] - 4s 2ms/step - loss: 0.0103 - categorical_accuracy: 0.9990\n",
      "Epoch 35/50\n",
      "2226/2226 [==============================] - 4s 2ms/step - loss: 0.0076 - categorical_accuracy: 0.9991\n",
      "Epoch 36/50\n",
      "2226/2226 [==============================] - 4s 2ms/step - loss: 0.0121 - categorical_accuracy: 0.9990\n",
      "Epoch 37/50\n",
      "2226/2226 [==============================] - 4s 2ms/step - loss: 0.0088 - categorical_accuracy: 0.9991\n",
      "Epoch 38/50\n",
      "2226/2226 [==============================] - 4s 2ms/step - loss: 0.0071 - categorical_accuracy: 0.9991\n",
      "Epoch 39/50\n",
      "2226/2226 [==============================] - 4s 2ms/step - loss: 0.0085 - categorical_accuracy: 0.9991\n",
      "Epoch 40/50\n",
      "2226/2226 [==============================] - 4s 2ms/step - loss: 0.0080 - categorical_accuracy: 0.9990\n",
      "Epoch 41/50\n",
      "2226/2226 [==============================] - 4s 2ms/step - loss: 0.0081 - categorical_accuracy: 0.9991\n",
      "Epoch 42/50\n",
      "2226/2226 [==============================] - 4s 2ms/step - loss: 0.0075 - categorical_accuracy: 0.9991\n",
      "Epoch 43/50\n",
      "2226/2226 [==============================] - 4s 2ms/step - loss: 0.0072 - categorical_accuracy: 0.9991\n",
      "Epoch 44/50\n",
      "2226/2226 [==============================] - 4s 2ms/step - loss: 0.0085 - categorical_accuracy: 0.9990\n",
      "Epoch 45/50\n",
      "2226/2226 [==============================] - 4s 2ms/step - loss: 0.0095 - categorical_accuracy: 0.9990\n",
      "Epoch 46/50\n",
      "2226/2226 [==============================] - 4s 2ms/step - loss: 0.0069 - categorical_accuracy: 0.9991\n",
      "Epoch 47/50\n",
      "2226/2226 [==============================] - 4s 2ms/step - loss: 0.0076 - categorical_accuracy: 0.9991\n",
      "Epoch 48/50\n",
      "2226/2226 [==============================] - 4s 2ms/step - loss: 0.0095 - categorical_accuracy: 0.9991\n",
      "Epoch 49/50\n",
      "2226/2226 [==============================] - 4s 2ms/step - loss: 0.0068 - categorical_accuracy: 0.9992\n",
      "Epoch 50/50\n",
      "2226/2226 [==============================] - 4s 2ms/step - loss: 0.0067 - categorical_accuracy: 0.9992\n"
     ]
    }
   ],
   "source": [
    "# Training the model\n",
    "\n",
    "history = model.fit(X, y, batch_size=128, epochs=50)"
   ]
  },
  {
   "cell_type": "code",
   "execution_count": 15,
   "metadata": {},
   "outputs": [
    {
     "data": {
      "text/plain": [
       "[<matplotlib.lines.Line2D at 0x7f7ac02a38d0>]"
      ]
     },
     "execution_count": 15,
     "metadata": {},
     "output_type": "execute_result"
    },
    {
     "data": {
      "image/png": "[encoded data removed]",
      "text/plain": [
       "<Figure size 432x288 with 1 Axes>"
      ]
     },
     "metadata": {
      "needs_background": "light"
     },
     "output_type": "display_data"
    }
   ],
   "source": [
    "# Plotting the Loss with Number of Epochs\n",
    "\n",
    "plt.plot(history.history['loss'], label='Loss')"
   ]
  },
  {
   "cell_type": "code",
   "execution_count": 16,
   "metadata": {},
   "outputs": [
    {
     "data": {
      "text/plain": [
       "[<matplotlib.lines.Line2D at 0x7f7ad802aa10>]"
      ]
     },
     "execution_count": 16,
     "metadata": {},
     "output_type": "execute_result"
    },
    {
     "data": {
      "image/png": "[encoded data removed]",
      "text/plain": [
       "<Figure size 432x288 with 1 Axes>"
      ]
     },
     "metadata": {
      "needs_background": "light"
     },
     "output_type": "display_data"
    }
   ],
   "source": [
    "# Plotting the Accuracy with Number of Epochs\n",
    "\n",
    "plt.plot(history.history['categorical_accuracy'], label='Accuracy')"
   ]
  },
  {
   "cell_type": "code",
   "execution_count": null,
   "metadata": {},
   "outputs": [],
   "source": []
  }
 ],
 "metadata": {
  "kernelspec": {
   "display_name": "Python 3",
   "language": "python",
   "name": "python3"
  },
  "language_info": {
   "codemirror_mode": {
    "name": "ipython",
    "version": 3
   },
   "file_extension": ".py",
   "mimetype": "text/x-python",
   "name": "python",
   "nbconvert_exporter": "python",
   "pygments_lexer": "ipython3",
   "version": "3.8.5"
  }
 },
 "nbformat": 4,
 "nbformat_minor": 5
}
