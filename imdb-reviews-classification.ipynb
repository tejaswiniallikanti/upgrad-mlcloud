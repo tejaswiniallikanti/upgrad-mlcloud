{
 "cells": [
  {
   "cell_type": "markdown",
   "metadata": {},
   "source": [
    "# Text Classification\n",
    "```\n",
    "----------------------------------------------------------------------\n",
    "Filename : imdb-reviews-classification.ipynb\n",
    "Author   : Jaidev Deshpande\n",
    "Purpose  : Understanding text classification using keras\n",
    "Libraries: tensorflow.keras,numpy,sklearn and pandas\n",
    "----------------------------------------------------------------------\n",
    "```"
   ]
  },
  {
   "cell_type": "code",
   "execution_count": 2,
   "metadata": {},
   "outputs": [],
   "source": [
    "# Importing Libraries\n",
    "from tensorflow.keras.preprocessing import text_dataset_from_directory\n",
    "from tensorflow.keras import Sequential\n",
    "from tensorflow.keras.layers import Dense\n",
    "from tensorflow.keras.optimizers import SGD\n",
    "\n",
    "import pandas as pd\n",
    "import numpy as np\n",
    "from sklearn.feature_extraction.text import TfidfVectorizer\n",
    "from sklearn.model_selection import train_test_split\n",
    "import matplotlib.pyplot as plt\n",
    "%matplotlib inline"
   ]
  },
  {
   "cell_type": "markdown",
   "metadata": {},
   "source": [
    "## The Problem: Large Movie Dataset Review\n",
    "### Classify movie reviews from IMDB into positive or negative sentiment.\n",
    "### Download the dataset [here](https://ai.stanford.edu/~amaas/data/sentiment/aclImdb_v1.tar.gz)"
   ]
  },
  {
   "cell_type": "code",
   "execution_count": 3,
   "metadata": {},
   "outputs": [
    {
     "name": "stdout",
     "output_type": "stream",
     "text": [
      "Found 25001 files belonging to 2 classes.\n",
      "Found 25000 files belonging to 2 classes.\n"
     ]
    }
   ],
   "source": [
    "# Importing dataset\n",
    "train_ds = text_dataset_from_directory('aclImdb/train')\n",
    "test_ds = text_dataset_from_directory('aclImdb/test')\n",
    "\n",
    "dfTrain = pd.DataFrame(train_ds.unbatch().as_numpy_iterator(), columns=['text', 'label'])\n",
    "dfTest = pd.DataFrame(test_ds.unbatch().as_numpy_iterator(), columns=['text', 'label'])"
   ]
  },
  {
   "cell_type": "code",
   "execution_count": 4,
   "metadata": {},
   "outputs": [
    {
     "name": "stdout",
     "output_type": "stream",
     "text": [
      "b\"'One-Round' Jack Sander is called that because he's a carnival boxer who fights any man in the audience. If they can last one round, they win a prize--a popular way to draw customers into traveling shows long ago. Jack is in love with the ticket girl, Mabel, though her head is quickly turned when Bob Corby enters the ring to try his chances with Jack. What no one at the fight knows is that Bob is the champ, so he's able to beat Jack--though it takes him some work. As a result, Bob asks Jack to become his sparring partner and give up the carnival circuit. Later, Jack improves so much that he, too, becomes a legitimate boxer. Slowly, he works his way up the rankings until he's nearly ready to take on the Champ.<br /><br />In the meantime, the Champ and Mabel start running around behind Jack's back--even though by now Mabel has married Jack. So, when the final fight occurs between Jack and Bob, it's very personal and Jack is ready to kill him. Is he good enough? Will rise justifiable rage against Bob help or hinder his performance? Tune in and see.<br /><br />This film was directed by Alfred Hitchcock and while today this sort of film seems strange for a director known for mystery-suspense films, back in the 1920s, Hitchcock had no fixed genre which he directed or wrote (he did both for this film). In fact, in many ways this film is more indicative of Hitchcock's silent style, as a somewhat similar plot came up in one of his next silents, THE MANXMAN (also starring Carl Brisson as the wronged husband). So, while this seems a lot like a standard boxing film of the day, it was not a radical departure for this great director--even with its rather formulaic ending.<br /><br />Overall, while a bit predictable and having Ian Hunter playing a boxing champ seems silly, the film works well. While far from a perfect silent, it's well worth seeing and packs a nice punch.\"\n"
     ]
    }
   ],
   "source": [
    "print(dfTrain.loc[0, 'text'])"
   ]
  },
  {
   "cell_type": "code",
   "execution_count": 5,
   "metadata": {},
   "outputs": [
    {
     "data": {
      "text/html": [
       "<div>\n",
       "<style scoped>\n",
       "    .dataframe tbody tr th:only-of-type {\n",
       "        vertical-align: middle;\n",
       "    }\n",
       "\n",
       "    .dataframe tbody tr th {\n",
       "        vertical-align: top;\n",
       "    }\n",
       "\n",
       "    .dataframe thead th {\n",
       "        text-align: right;\n",
       "    }\n",
       "</style>\n",
       "<table border=\"1\" class=\"dataframe\">\n",
       "  <thead>\n",
       "    <tr style=\"text-align: right;\">\n",
       "      <th></th>\n",
       "      <th>text</th>\n",
       "      <th>label</th>\n",
       "    </tr>\n",
       "  </thead>\n",
       "  <tbody>\n",
       "    <tr>\n",
       "      <th>0</th>\n",
       "      <td>b\"'One-Round' Jack Sander is called that because he's a carnival boxer who fights any man in the...</td>\n",
       "      <td>1</td>\n",
       "    </tr>\n",
       "    <tr>\n",
       "      <th>1</th>\n",
       "      <td>b\"Return of the Boogyman is a dreadful movie which doesn't play like a movie, it plays like an e...</td>\n",
       "      <td>0</td>\n",
       "    </tr>\n",
       "    <tr>\n",
       "      <th>2</th>\n",
       "      <td>b\"That's a problem I have with movies that come on television, when there is nothing else to wat...</td>\n",
       "      <td>0</td>\n",
       "    </tr>\n",
       "    <tr>\n",
       "      <th>3</th>\n",
       "      <td>b'This is a very funny Ealing comedy about a community in central London who, through an unusual...</td>\n",
       "      <td>1</td>\n",
       "    </tr>\n",
       "    <tr>\n",
       "      <th>4</th>\n",
       "      <td>b'I think Jason Lee has huge potential, but this was the WRONG vehicle in which to attempt to br...</td>\n",
       "      <td>0</td>\n",
       "    </tr>\n",
       "  </tbody>\n",
       "</table>\n",
       "</div>"
      ],
      "text/plain": [
       "                                                                                                  text  \\\n",
       "0  b\"'One-Round' Jack Sander is called that because he's a carnival boxer who fights any man in the...   \n",
       "1  b\"Return of the Boogyman is a dreadful movie which doesn't play like a movie, it plays like an e...   \n",
       "2  b\"That's a problem I have with movies that come on television, when there is nothing else to wat...   \n",
       "3  b'This is a very funny Ealing comedy about a community in central London who, through an unusual...   \n",
       "4  b'I think Jason Lee has huge potential, but this was the WRONG vehicle in which to attempt to br...   \n",
       "\n",
       "   label  \n",
       "0      1  \n",
       "1      0  \n",
       "2      0  \n",
       "3      1  \n",
       "4      0  "
      ]
     },
     "execution_count": 5,
     "metadata": {},
     "output_type": "execute_result"
    }
   ],
   "source": [
    "pd.options.display.max_colwidth = 100\n",
    "dfTrain.head()"
   ]
  },
  {
   "cell_type": "code",
   "execution_count": 6,
   "metadata": {},
   "outputs": [
    {
     "data": {
      "text/html": [
       "<div>\n",
       "<style scoped>\n",
       "    .dataframe tbody tr th:only-of-type {\n",
       "        vertical-align: middle;\n",
       "    }\n",
       "\n",
       "    .dataframe tbody tr th {\n",
       "        vertical-align: top;\n",
       "    }\n",
       "\n",
       "    .dataframe thead th {\n",
       "        text-align: right;\n",
       "    }\n",
       "</style>\n",
       "<table border=\"1\" class=\"dataframe\">\n",
       "  <thead>\n",
       "    <tr style=\"text-align: right;\">\n",
       "      <th></th>\n",
       "      <th>text</th>\n",
       "      <th>label</th>\n",
       "    </tr>\n",
       "  </thead>\n",
       "  <tbody>\n",
       "    <tr>\n",
       "      <th>0</th>\n",
       "      <td>b\"honestly.. this show warms my heart, i watch it EVERYDAY on fox family and now that the new se...</td>\n",
       "      <td>1</td>\n",
       "    </tr>\n",
       "    <tr>\n",
       "      <th>1</th>\n",
       "      <td>b'The seven collaborations between director Joseph \"von\" Sternberg and star Marlene Dietrich wer...</td>\n",
       "      <td>0</td>\n",
       "    </tr>\n",
       "    <tr>\n",
       "      <th>2</th>\n",
       "      <td>b'In the mountains of Japan, forlorn young artist Sessue Hayakawa (as Tatsu aka \"The Dragon Pain...</td>\n",
       "      <td>0</td>\n",
       "    </tr>\n",
       "    <tr>\n",
       "      <th>3</th>\n",
       "      <td>b'The One is a very aptly name show, mostly because it comes close to being the only network sho...</td>\n",
       "      <td>0</td>\n",
       "    </tr>\n",
       "    <tr>\n",
       "      <th>4</th>\n",
       "      <td>b'It is a risky business to film such a lavish production of \"The Merchant of Venice\". It could ...</td>\n",
       "      <td>1</td>\n",
       "    </tr>\n",
       "  </tbody>\n",
       "</table>\n",
       "</div>"
      ],
      "text/plain": [
       "                                                                                                  text  \\\n",
       "0  b\"honestly.. this show warms my heart, i watch it EVERYDAY on fox family and now that the new se...   \n",
       "1  b'The seven collaborations between director Joseph \"von\" Sternberg and star Marlene Dietrich wer...   \n",
       "2  b'In the mountains of Japan, forlorn young artist Sessue Hayakawa (as Tatsu aka \"The Dragon Pain...   \n",
       "3  b'The One is a very aptly name show, mostly because it comes close to being the only network sho...   \n",
       "4  b'It is a risky business to film such a lavish production of \"The Merchant of Venice\". It could ...   \n",
       "\n",
       "   label  \n",
       "0      1  \n",
       "1      0  \n",
       "2      0  \n",
       "3      0  \n",
       "4      1  "
      ]
     },
     "execution_count": 6,
     "metadata": {},
     "output_type": "execute_result"
    }
   ],
   "source": [
    "dfTest.head()"
   ]
  },
  {
   "cell_type": "code",
   "execution_count": 7,
   "metadata": {},
   "outputs": [],
   "source": [
    "xts, _ = train_test_split(dfTest, stratify=dfTest['label'], train_size=0.25)"
   ]
  },
  {
   "cell_type": "code",
   "execution_count": 8,
   "metadata": {},
   "outputs": [],
   "source": [
    "# Converting the text into Tfidf\n",
    "vect = TfidfVectorizer(stop_words='english', max_features=65536)\n",
    "XTrain = vect.fit_transform(dfTrain['text']).toarray()\n",
    "XTest = vect.transform(xts['text']).toarray()"
   ]
  },
  {
   "cell_type": "code",
   "execution_count": 9,
   "metadata": {},
   "outputs": [],
   "source": [
    "# Defining the model parameters\n",
    "model = Sequential([\n",
    "    Dense(128, input_shape=(65536,), activation='relu'),\n",
    "    Dense(128, activation='relu'),\n",
    "    Dense(64, activation='relu'),\n",
    "    Dense(1, activation='sigmoid')\n",
    "])\n",
    "model.compile(loss='binary_crossentropy', optimizer=SGD(lr=1e-3), metrics=['accuracy'])"
   ]
  },
  {
   "cell_type": "code",
   "execution_count": 10,
   "metadata": {},
   "outputs": [
    {
     "name": "stdout",
     "output_type": "stream",
     "text": [
      "Epoch 1/50\n",
      "391/391 [==============================] - 5s 13ms/step - loss: 0.6931 - accuracy: 0.5102 - val_loss: 0.6931 - val_accuracy: 0.5122\n",
      "Epoch 2/50\n",
      "391/391 [==============================] - 3s 9ms/step - loss: 0.6930 - accuracy: 0.5295 - val_loss: 0.6930 - val_accuracy: 0.5275\n",
      "Epoch 3/50\n",
      "391/391 [==============================] - 3s 9ms/step - loss: 0.6930 - accuracy: 0.5375 - val_loss: 0.6930 - val_accuracy: 0.5467\n",
      "Epoch 4/50\n",
      "391/391 [==============================] - 3s 9ms/step - loss: 0.6929 - accuracy: 0.5609 - val_loss: 0.6929 - val_accuracy: 0.5594\n",
      "Epoch 5/50\n",
      "391/391 [==============================] - 3s 9ms/step - loss: 0.6928 - accuracy: 0.5721 - val_loss: 0.6928 - val_accuracy: 0.5704\n",
      "Epoch 6/50\n",
      "391/391 [==============================] - 3s 9ms/step - loss: 0.6927 - accuracy: 0.5848 - val_loss: 0.6927 - val_accuracy: 0.5752\n",
      "Epoch 7/50\n",
      "391/391 [==============================] - 3s 9ms/step - loss: 0.6926 - accuracy: 0.5938 - val_loss: 0.6926 - val_accuracy: 0.5898\n",
      "Epoch 8/50\n",
      "391/391 [==============================] - 3s 9ms/step - loss: 0.6925 - accuracy: 0.6036 - val_loss: 0.6925 - val_accuracy: 0.6011\n",
      "Epoch 9/50\n",
      "391/391 [==============================] - 3s 9ms/step - loss: 0.6923 - accuracy: 0.6050 - val_loss: 0.6923 - val_accuracy: 0.6178\n",
      "Epoch 10/50\n",
      "391/391 [==============================] - 3s 9ms/step - loss: 0.6921 - accuracy: 0.6181 - val_loss: 0.6921 - val_accuracy: 0.6208\n",
      "Epoch 11/50\n",
      "391/391 [==============================] - 3s 9ms/step - loss: 0.6920 - accuracy: 0.6326 - val_loss: 0.6920 - val_accuracy: 0.6347\n",
      "Epoch 12/50\n",
      "391/391 [==============================] - 3s 9ms/step - loss: 0.6918 - accuracy: 0.6470 - val_loss: 0.6918 - val_accuracy: 0.6414\n",
      "Epoch 13/50\n",
      "391/391 [==============================] - 3s 9ms/step - loss: 0.6915 - accuracy: 0.6561 - val_loss: 0.6916 - val_accuracy: 0.6525\n",
      "Epoch 14/50\n",
      "391/391 [==============================] - 3s 9ms/step - loss: 0.6913 - accuracy: 0.6667 - val_loss: 0.6913 - val_accuracy: 0.6629\n",
      "Epoch 15/50\n",
      "391/391 [==============================] - 3s 9ms/step - loss: 0.6911 - accuracy: 0.6768 - val_loss: 0.6911 - val_accuracy: 0.6706\n",
      "Epoch 16/50\n",
      "391/391 [==============================] - 3s 9ms/step - loss: 0.6908 - accuracy: 0.6819 - val_loss: 0.6908 - val_accuracy: 0.6787\n",
      "Epoch 17/50\n",
      "391/391 [==============================] - 3s 9ms/step - loss: 0.6905 - accuracy: 0.6827 - val_loss: 0.6906 - val_accuracy: 0.6835\n",
      "Epoch 18/50\n",
      "391/391 [==============================] - 3s 9ms/step - loss: 0.6902 - accuracy: 0.6965 - val_loss: 0.6903 - val_accuracy: 0.6890\n",
      "Epoch 19/50\n",
      "391/391 [==============================] - 3s 9ms/step - loss: 0.6899 - accuracy: 0.6943 - val_loss: 0.6900 - val_accuracy: 0.7008\n",
      "Epoch 20/50\n",
      "391/391 [==============================] - 3s 9ms/step - loss: 0.6896 - accuracy: 0.7113 - val_loss: 0.6897 - val_accuracy: 0.6968\n",
      "Epoch 21/50\n",
      "391/391 [==============================] - 3s 9ms/step - loss: 0.6893 - accuracy: 0.7139 - val_loss: 0.6894 - val_accuracy: 0.7184\n",
      "Epoch 22/50\n",
      "391/391 [==============================] - 3s 9ms/step - loss: 0.6890 - accuracy: 0.7313 - val_loss: 0.6891 - val_accuracy: 0.7224\n",
      "Epoch 23/50\n",
      "391/391 [==============================] - 3s 9ms/step - loss: 0.6886 - accuracy: 0.7365 - val_loss: 0.6888 - val_accuracy: 0.7253\n",
      "Epoch 24/50\n",
      "391/391 [==============================] - 3s 9ms/step - loss: 0.6883 - accuracy: 0.7407 - val_loss: 0.6884 - val_accuracy: 0.7246\n",
      "Epoch 25/50\n",
      "391/391 [==============================] - 3s 9ms/step - loss: 0.6879 - accuracy: 0.7440 - val_loss: 0.6881 - val_accuracy: 0.7253\n",
      "Epoch 26/50\n",
      "391/391 [==============================] - 3s 9ms/step - loss: 0.6875 - accuracy: 0.7404 - val_loss: 0.6877 - val_accuracy: 0.7400\n",
      "Epoch 27/50\n",
      "391/391 [==============================] - 3s 9ms/step - loss: 0.6871 - accuracy: 0.7481 - val_loss: 0.6873 - val_accuracy: 0.7435\n",
      "Epoch 28/50\n",
      "391/391 [==============================] - 3s 9ms/step - loss: 0.6867 - accuracy: 0.7572 - val_loss: 0.6869 - val_accuracy: 0.7448\n",
      "Epoch 29/50\n",
      "391/391 [==============================] - 3s 9ms/step - loss: 0.6863 - accuracy: 0.7546 - val_loss: 0.6865 - val_accuracy: 0.7522\n",
      "Epoch 30/50\n",
      "391/391 [==============================] - 3s 9ms/step - loss: 0.6859 - accuracy: 0.7621 - val_loss: 0.6861 - val_accuracy: 0.7504\n",
      "Epoch 31/50\n",
      "391/391 [==============================] - 3s 9ms/step - loss: 0.6855 - accuracy: 0.7618 - val_loss: 0.6857 - val_accuracy: 0.7538\n",
      "Epoch 32/50\n",
      "391/391 [==============================] - 3s 9ms/step - loss: 0.6850 - accuracy: 0.7665 - val_loss: 0.6853 - val_accuracy: 0.7536\n",
      "Epoch 33/50\n",
      "391/391 [==============================] - 3s 9ms/step - loss: 0.6846 - accuracy: 0.7668 - val_loss: 0.6848 - val_accuracy: 0.7582\n",
      "Epoch 34/50\n",
      "391/391 [==============================] - 3s 9ms/step - loss: 0.6841 - accuracy: 0.7677 - val_loss: 0.6844 - val_accuracy: 0.7621\n",
      "Epoch 35/50\n",
      "391/391 [==============================] - 3s 9ms/step - loss: 0.6836 - accuracy: 0.7714 - val_loss: 0.6839 - val_accuracy: 0.7627\n",
      "Epoch 36/50\n",
      "391/391 [==============================] - 3s 9ms/step - loss: 0.6831 - accuracy: 0.7727 - val_loss: 0.6834 - val_accuracy: 0.7654\n",
      "Epoch 37/50\n",
      "391/391 [==============================] - 3s 9ms/step - loss: 0.6826 - accuracy: 0.7731 - val_loss: 0.6829 - val_accuracy: 0.7616\n",
      "Epoch 38/50\n",
      "391/391 [==============================] - 3s 9ms/step - loss: 0.6821 - accuracy: 0.7752 - val_loss: 0.6824 - val_accuracy: 0.7678\n",
      "Epoch 39/50\n",
      "391/391 [==============================] - 3s 9ms/step - loss: 0.6815 - accuracy: 0.7760 - val_loss: 0.6819 - val_accuracy: 0.7688\n",
      "Epoch 40/50\n",
      "391/391 [==============================] - 3s 9ms/step - loss: 0.6810 - accuracy: 0.7779 - val_loss: 0.6813 - val_accuracy: 0.7704\n",
      "Epoch 41/50\n",
      "391/391 [==============================] - 3s 9ms/step - loss: 0.6804 - accuracy: 0.7746 - val_loss: 0.6808 - val_accuracy: 0.7726\n",
      "Epoch 42/50\n",
      "391/391 [==============================] - 3s 9ms/step - loss: 0.6798 - accuracy: 0.7836 - val_loss: 0.6802 - val_accuracy: 0.7672\n",
      "Epoch 43/50\n",
      "391/391 [==============================] - 3s 9ms/step - loss: 0.6792 - accuracy: 0.7822 - val_loss: 0.6796 - val_accuracy: 0.7678\n",
      "Epoch 44/50\n",
      "391/391 [==============================] - 3s 9ms/step - loss: 0.6785 - accuracy: 0.7833 - val_loss: 0.6790 - val_accuracy: 0.7690\n",
      "Epoch 45/50\n",
      "391/391 [==============================] - 3s 9ms/step - loss: 0.6779 - accuracy: 0.7850 - val_loss: 0.6784 - val_accuracy: 0.7690\n",
      "Epoch 46/50\n",
      "391/391 [==============================] - 3s 9ms/step - loss: 0.6772 - accuracy: 0.7836 - val_loss: 0.6777 - val_accuracy: 0.7718\n",
      "Epoch 47/50\n",
      "391/391 [==============================] - 3s 9ms/step - loss: 0.6765 - accuracy: 0.7840 - val_loss: 0.6770 - val_accuracy: 0.7749\n",
      "Epoch 48/50\n",
      "391/391 [==============================] - 3s 9ms/step - loss: 0.6758 - accuracy: 0.7854 - val_loss: 0.6763 - val_accuracy: 0.7762\n",
      "Epoch 49/50\n",
      "391/391 [==============================] - 3s 9ms/step - loss: 0.6750 - accuracy: 0.7873 - val_loss: 0.6756 - val_accuracy: 0.7776\n",
      "Epoch 50/50\n",
      "391/391 [==============================] - 3s 9ms/step - loss: 0.6742 - accuracy: 0.7880 - val_loss: 0.6748 - val_accuracy: 0.7770\n"
     ]
    }
   ],
   "source": [
    "# Training the model\n",
    "history = model.fit(XTrain, dfTrain['label'], batch_size=64, validation_data=(XTest, xts['label']), epochs=50)"
   ]
  },
  {
   "cell_type": "code",
   "execution_count": 11,
   "metadata": {},
   "outputs": [
    {
     "data": {
      "text/plain": [
       "<matplotlib.legend.Legend at 0x7fc1804bfe10>"
      ]
     },
     "execution_count": 11,
     "metadata": {},
     "output_type": "execute_result"
    },
    {
     "data": {
      "image/png": "[encoded data removed]",
      "text/plain": [
       "<Figure size 432x288 with 1 Axes>"
      ]
     },
     "metadata": {
      "needs_background": "light"
     },
     "output_type": "display_data"
    }
   ],
   "source": [
    "# Plotting accuracy with number of epochs\n",
    "plt.plot(history.history['accuracy'], label='Train Accuracy')\n",
    "plt.plot(history.history['val_accuracy'], label='Test Accuracy')\n",
    "plt.legend()"
   ]
  },
  {
   "cell_type": "code",
   "execution_count": null,
   "metadata": {},
   "outputs": [],
   "source": []
  }
 ],
 "metadata": {
  "kernelspec": {
   "display_name": "Python 3",
   "language": "python",
   "name": "python3"
  },
  "language_info": {
   "codemirror_mode": {
    "name": "ipython",
    "version": 3
   },
   "file_extension": ".py",
   "mimetype": "text/x-python",
   "name": "python",
   "nbconvert_exporter": "python",
   "pygments_lexer": "ipython3",
   "version": "3.8.5"
  }
 },
 "nbformat": 4,
 "nbformat_minor": 5
}
